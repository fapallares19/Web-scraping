import requests
from bs4 import BeautifulSoup

# URL de la página que deseas analizar
url = 'https://campus.w3schools.com/'  # Cambia esto por la URL que quieras analizar

# Realizamos la solicitud a la página web
response = requests.get(url)

# Comprobamos que la solicitud fue exitosa
if response.status_code == 200:
    # Creamos un objeto BeautifulSoup para analizar el HTML
    soup = BeautifulSoup(response.text, 'html.parser')

    # Encontramos todas las etiquetas h1, h2, h3, h4, h5, h6
    h1_tags = soup.find_all('h1')
    h2_tags = soup.find_all('h2')
    h3_tags = soup.find_all('h3')
    h4_tags = soup.find_all('h4')
    h5_tags = soup.find_all('h5')
    h6_tags = soup.find_all('h6')

    # Imprimimos la cantidad de h1, h2, h3, h4, h5, h6
    print(f'Número de etiquetas <h1>: {len(h1_tags)}')
    print(f'Número de etiquetas <h2>: {len(h2_tags)}')
    print(f'Número de etiquetas <h3>: {len(h3_tags)}')
    print(f'Número de etiquetas <h4>: {len(h4_tags)}')
    print(f'Número de etiquetas <h5>: {len(h5_tags)}')
    print(f'Número de etiquetas <h6>: {len(h6_tags)}')

else:
    print(f'Error al acceder a la página. Código de estado: {response.status_code}')
