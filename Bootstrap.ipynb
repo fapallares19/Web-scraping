{
  "nbformat": 4,
  "nbformat_minor": 0,
  "metadata": {
    "colab": {
      "provenance": []
    },
    "kernelspec": {
      "name": "python3",
      "display_name": "Python 3"
    },
    "language_info": {
      "name": "python"
    }
  },
  "cells": [
    {
      "cell_type": "code",
      "execution_count": 2,
      "metadata": {
        "colab": {
          "base_uri": "https://localhost:8080/"
        },
        "id": "kIv92tXFUaXt",
        "outputId": "b9ceff19-4a72-40d9-8750-32b01931f0e0"
      },
      "outputs": [
        {
          "output_type": "stream",
          "name": "stdout",
          "text": [
            "Número de etiquetas <h1>: 0\n",
            "Número de etiquetas <h2>: 33\n",
            "Número de etiquetas <h3>: 0\n"
          ]
        }
      ],
      "source": [
        "import requests\n",
        "from bs4 import BeautifulSoup\n",
        "\n",
        "# URL de la página que deseas analizar\n",
        "url = 'https://campus.w3schools.com/'  # Cambia esto por la URL que quieras analizar\n",
        "\n",
        "# Realizamos la solicitud a la página web\n",
        "response = requests.get(url)\n",
        "\n",
        "# Comprobamos que la solicitud fue exitosa\n",
        "if response.status_code == 200:\n",
        "    # Creamos un objeto BeautifulSoup para analizar el HTML\n",
        "    soup = BeautifulSoup(response.text, 'html.parser')\n",
        "\n",
        "    # Encontramos todas las etiquetas h1, h2 y h3\n",
        "    h1_tags = soup.find_all('h1')\n",
        "    h2_tags = soup.find_all('h2')\n",
        "    h3_tags = soup.find_all('h3')\n",
        "\n",
        "    # Imprimimos la cantidad de h1, h2 y h3\n",
        "    print(f'Número de etiquetas <h1>: {len(h1_tags)}')\n",
        "    print(f'Número de etiquetas <h2>: {len(h2_tags)}')\n",
        "    print(f'Número de etiquetas <h3>: {len(h3_tags)}')\n",
        "else:\n",
        "    print(f'Error al acceder a la página. Código de estado: {response.status_code}')\n",
        "\n"
      ]
    }
  ]
}